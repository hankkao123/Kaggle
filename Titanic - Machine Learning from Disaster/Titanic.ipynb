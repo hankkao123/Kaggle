{
 "cells": [
  {
   "cell_type": "markdown",
   "id": "8e7c4e05",
   "metadata": {},
   "source": [
    "# Import "
   ]
  },
  {
   "cell_type": "code",
   "execution_count": 1,
   "id": "647c5972",
   "metadata": {},
   "outputs": [],
   "source": [
    "import numpy as np\n",
    "import pandas as pd\n",
    "import matplotlib.pyplot as plot\n",
    "import seaborn as sns\n",
    "import warnings \n",
    "warnings.filterwarnings('ignore')"
   ]
  },
  {
   "cell_type": "code",
   "execution_count": 2,
   "id": "18fa9d14",
   "metadata": {},
   "outputs": [],
   "source": [
    "from sklearn.model_selection import train_test_split\n",
    "from sklearn.ensemble import RandomForestClassifier\n",
    "from sklearn.linear_model import LogisticRegression\n",
    "from sklearn.neighbors import KNeighborsClassifier\n",
    "from sklearn import tree,svm\n",
    "from sklearn.metrics import accuracy_score"
   ]
  },
  {
   "cell_type": "markdown",
   "id": "89f2fb7a",
   "metadata": {},
   "source": [
    "# 引入資料 資料分析"
   ]
  },
  {
   "cell_type": "code",
   "execution_count": 3,
   "id": "d13c42b9",
   "metadata": {},
   "outputs": [
    {
     "name": "stdout",
     "output_type": "stream",
     "text": [
      "Index(['PassengerId', 'Survived', 'Pclass', 'Name', 'Sex', 'Age', 'SibSp',\n",
      "       'Parch', 'Ticket', 'Fare', 'Cabin', 'Embarked'],\n",
      "      dtype='object')\n",
      "-------------------------------------------------------------------------------\n",
      "Index(['PassengerId', 'Pclass', 'Name', 'Sex', 'Age', 'SibSp', 'Parch',\n",
      "       'Ticket', 'Fare', 'Cabin', 'Embarked'],\n",
      "      dtype='object')\n",
      "   PassengerId  Survived  Pclass  \\\n",
      "0            1         0       3   \n",
      "1            2         1       1   \n",
      "2            3         1       3   \n",
      "3            4         1       1   \n",
      "4            5         0       3   \n",
      "5            6         0       3   \n",
      "6            7         0       1   \n",
      "7            8         0       3   \n",
      "8            9         1       3   \n",
      "9           10         1       2   \n",
      "\n",
      "                                                Name     Sex   Age  SibSp  \\\n",
      "0                            Braund, Mr. Owen Harris    male  22.0      1   \n",
      "1  Cumings, Mrs. John Bradley (Florence Briggs Th...  female  38.0      1   \n",
      "2                             Heikkinen, Miss. Laina  female  26.0      0   \n",
      "3       Futrelle, Mrs. Jacques Heath (Lily May Peel)  female  35.0      1   \n",
      "4                           Allen, Mr. William Henry    male  35.0      0   \n",
      "5                                   Moran, Mr. James    male   NaN      0   \n",
      "6                            McCarthy, Mr. Timothy J    male  54.0      0   \n",
      "7                     Palsson, Master. Gosta Leonard    male   2.0      3   \n",
      "8  Johnson, Mrs. Oscar W (Elisabeth Vilhelmina Berg)  female  27.0      0   \n",
      "9                Nasser, Mrs. Nicholas (Adele Achem)  female  14.0      1   \n",
      "\n",
      "   Parch            Ticket     Fare Cabin Embarked  \n",
      "0      0         A/5 21171   7.2500   NaN        S  \n",
      "1      0          PC 17599  71.2833   C85        C  \n",
      "2      0  STON/O2. 3101282   7.9250   NaN        S  \n",
      "3      0            113803  53.1000  C123        S  \n",
      "4      0            373450   8.0500   NaN        S  \n",
      "5      0            330877   8.4583   NaN        Q  \n",
      "6      0             17463  51.8625   E46        S  \n",
      "7      1            349909  21.0750   NaN        S  \n",
      "8      2            347742  11.1333   NaN        S  \n",
      "9      0            237736  30.0708   NaN        C  \n",
      "-------------------------------------------------------------------------------\n",
      "Passengers: 891 Features 12\n"
     ]
    }
   ],
   "source": [
    "train_data = pd.read_csv('train.csv')\n",
    "test_data = pd.read_csv('test.csv')\n",
    "\n",
    "print(train_data.columns)\n",
    "print('-'*79)\n",
    "print(test_data.columns)\n",
    "\n",
    "print(train_data.head(10))\n",
    "print('-'*79)\n",
    "print('Passengers:',train_data.shape[0],'Features',train_data.shape[1])\n"
   ]
  },
  {
   "cell_type": "markdown",
   "id": "7fe0d240",
   "metadata": {},
   "source": [
    "PassengerId: 乘客\n",
    "Survived: 是否生還\n",
    "Pclass: 艙位等級 --> 1,2,3 / 1最高\n",
    "Name: 乘客姓名\n",
    "Sex: 乘客性別\n",
    "Age: 年齡\n",
    "SibSP: \n",
    "Parch: 父母和孩子\n",
    "Ticket: 票的數位\n",
    "Fare: 票價\n",
    "Cabin: 船艙號碼\n",
    "Embarked: 登船艙\n"
   ]
  },
  {
   "cell_type": "code",
   "execution_count": 4,
   "id": "67a06de8",
   "metadata": {},
   "outputs": [
    {
     "name": "stdout",
     "output_type": "stream",
     "text": [
      "<class 'pandas.core.frame.DataFrame'>\n",
      "RangeIndex: 891 entries, 0 to 890\n",
      "Data columns (total 12 columns):\n",
      " #   Column       Non-Null Count  Dtype  \n",
      "---  ------       --------------  -----  \n",
      " 0   PassengerId  891 non-null    int64  \n",
      " 1   Survived     891 non-null    int64  \n",
      " 2   Pclass       891 non-null    int64  \n",
      " 3   Name         891 non-null    object \n",
      " 4   Sex          891 non-null    object \n",
      " 5   Age          714 non-null    float64\n",
      " 6   SibSp        891 non-null    int64  \n",
      " 7   Parch        891 non-null    int64  \n",
      " 8   Ticket       891 non-null    object \n",
      " 9   Fare         891 non-null    float64\n",
      " 10  Cabin        204 non-null    object \n",
      " 11  Embarked     889 non-null    object \n",
      "dtypes: float64(2), int64(5), object(5)\n",
      "memory usage: 83.7+ KB\n"
     ]
    },
    {
     "data": {
      "text/plain": [
       "PassengerId      0\n",
       "Survived         0\n",
       "Pclass           0\n",
       "Name             0\n",
       "Sex              0\n",
       "Age            177\n",
       "SibSp            0\n",
       "Parch            0\n",
       "Ticket           0\n",
       "Fare             0\n",
       "Cabin          687\n",
       "Embarked         2\n",
       "dtype: int64"
      ]
     },
     "execution_count": 4,
     "metadata": {},
     "output_type": "execute_result"
    }
   ],
   "source": [
    "#輸出各特徵基本資料\n",
    "#Null --> 缺失值\n",
    "\n",
    "train_data.info()\n",
    "\n",
    "#計算各特徵缺失值\n",
    "train_data.isnull().sum()"
   ]
  },
  {
   "cell_type": "code",
   "execution_count": 5,
   "id": "f02719a6",
   "metadata": {},
   "outputs": [
    {
     "data": {
      "image/png": "[encoded data removed]",
      "text/plain": [
       "<Figure size 432x288 with 2 Axes>"
      ]
     },
     "metadata": {
      "needs_background": "light"
     },
     "output_type": "display_data"
    }
   ],
   "source": [
    "##heatmap --> 熱圖\n",
    "## corr() --> 相關係數\n",
    "heatmap = sns.heatmap(train_data[[\"Survived\", \"SibSp\", \"Parch\", \"Age\", \"Fare\"]].corr()\n",
    "                      , annot = True)\n",
    "\n",
    "\n",
    "###由圖可知 --> 特徵[fare] 和 是否生存[survived] 較有關係\n",
    "\n",
    "\n"
   ]
  },
  {
   "cell_type": "code",
   "execution_count": 6,
   "id": "de75087e",
   "metadata": {},
   "outputs": [
    {
     "name": "stdout",
     "output_type": "stream",
     "text": [
      "0    549\n",
      "1    342\n",
      "Name: Survived, dtype: int64\n"
     ]
    },
    {
     "data": {
      "text/plain": [
       "<AxesSubplot:ylabel='Survived'>"
      ]
     },
     "execution_count": 6,
     "metadata": {},
     "output_type": "execute_result"
    },
    {
     "data": {
      "image/png": "[encoded data removed]",
      "text/plain": [
       "<Figure size 432x288 with 1 Axes>"
      ]
     },
     "metadata": {},
     "output_type": "display_data"
    }
   ],
   "source": [
    "##訓練資料生存圓餅圖\n",
    "## autopct --> 顯示百分比 \n",
    "print(train_data['Survived'].value_counts())\n",
    "train_data['Survived'].value_counts().plot.pie(autopct='%1.2f%%')\n",
    "\n"
   ]
  },
  {
   "cell_type": "code",
   "execution_count": 7,
   "id": "71adf0d9",
   "metadata": {},
   "outputs": [
    {
     "name": "stdout",
     "output_type": "stream",
     "text": [
      "3    491\n",
      "1    216\n",
      "2    184\n",
      "Name: Pclass, dtype: int64\n"
     ]
    },
    {
     "data": {
      "text/plain": [
       "<AxesSubplot:ylabel='Pclass'>"
      ]
     },
     "execution_count": 7,
     "metadata": {},
     "output_type": "execute_result"
    },
    {
     "data": {
      "image/png": "[encoded data removed]",
      "text/plain": [
       "<Figure size 432x288 with 1 Axes>"
      ]
     },
     "metadata": {},
     "output_type": "display_data"
    }
   ],
   "source": [
    "#座艙等級圓餅圖分析\n",
    "print(train_data['Pclass'].value_counts())\n",
    "train_data['Pclass'].value_counts().plot.pie(autopct='%1.2f%%')"
   ]
  },
  {
   "cell_type": "code",
   "execution_count": 8,
   "id": "afc4a18f",
   "metadata": {},
   "outputs": [
    {
     "name": "stdout",
     "output_type": "stream",
     "text": [
      "3    218\n",
      "1    107\n",
      "2     93\n",
      "Name: Pclass, dtype: int64\n"
     ]
    },
    {
     "data": {
      "text/plain": [
       "<AxesSubplot:ylabel='Pclass'>"
      ]
     },
     "execution_count": 8,
     "metadata": {},
     "output_type": "execute_result"
    },
    {
     "data": {
      "image/png": "[encoded data removed]",
      "text/plain": [
       "<Figure size 432x288 with 1 Axes>"
      ]
     },
     "metadata": {},
     "output_type": "display_data"
    }
   ],
   "source": [
    "##測試資料艙位等級圓餅圖分析\n",
    "print(test_data['Pclass'].value_counts())\n",
    "test_data['Pclass'].value_counts().plot.pie(autopct='^%11.2f%%')\n",
    "\n",
    "#####兩張圓餅圖對比可知 --> train和 test 資料相差不大"
   ]
  },
  {
   "cell_type": "code",
   "execution_count": 9,
   "id": "65194cc2",
   "metadata": {},
   "outputs": [
    {
     "data": {
      "text/plain": [
       "<AxesSubplot:xlabel='Pclass', ylabel='count'>"
      ]
     },
     "execution_count": 9,
     "metadata": {},
     "output_type": "execute_result"
    },
    {
     "data": {
      "image/png": "[encoded data removed]",
      "text/plain": [
       "<Figure size 432x288 with 1 Axes>"
      ]
     },
     "metadata": {
      "needs_background": "light"
     },
     "output_type": "display_data"
    }
   ],
   "source": [
    "###艙位等級和生存對比\n",
    "\n",
    "sns.countplot(x='Pclass',hue='Survived',data = train_data)\n"
   ]
  },
  {
   "cell_type": "code",
   "execution_count": 10,
   "id": "78185439",
   "metadata": {},
   "outputs": [
    {
     "data": {
      "text/plain": [
       "<AxesSubplot:xlabel='Pclass'>"
      ]
     },
     "execution_count": 10,
     "metadata": {},
     "output_type": "execute_result"
    },
    {
     "data": {
      "image/png": "[encoded data removed]",
      "text/plain": [
       "<Figure size 432x288 with 1 Axes>"
      ]
     },
     "metadata": {
      "needs_background": "light"
     },
     "output_type": "display_data"
    }
   ],
   "source": [
    "###比較艙位等級存活率\n",
    "###將 Survived 資料依 Pclass(船艙等級) 分組\n",
    "###分組後 計算生存平均值\n",
    "\n",
    "\n",
    "train_data[['Pclass','Survived']].groupby(['Pclass']).mean().plot.bar()"
   ]
  },
  {
   "cell_type": "code",
   "execution_count": 11,
   "id": "c4b848a7",
   "metadata": {},
   "outputs": [
    {
     "data": {
      "text/plain": [
       "<AxesSubplot:xlabel='Pclass,Sex'>"
      ]
     },
     "execution_count": 11,
     "metadata": {},
     "output_type": "execute_result"
    },
    {
     "data": {
      "image/png": "[encoded data removed]",
      "text/plain": [
       "<Figure size 432x288 with 1 Axes>"
      ]
     },
     "metadata": {
      "needs_background": "light"
     },
     "output_type": "display_data"
    }
   ],
   "source": [
    "####比較艙位等級、性別 的生存比例\n",
    "\n",
    "train_data[['Sex','Survived','Pclass']].groupby(['Pclass','Sex']).mean().plot.bar()\n",
    "\n",
    "##看圖可知 --> 不論哪種等級的艙，女性生存比例都較高\n"
   ]
  },
  {
   "cell_type": "code",
   "execution_count": 12,
   "id": "216873bf",
   "metadata": {},
   "outputs": [
    {
     "data": {
      "image/png": "[encoded data removed]",
      "text/plain": [
       "<Figure size 576x576 with 1 Axes>"
      ]
     },
     "metadata": {
      "needs_background": "light"
     },
     "output_type": "display_data"
    }
   ],
   "source": [
    "bargraph_sibsp = sns.catplot(x = 'SibSp', y = 'Survived', data = train_data,kind='bar',height = 8)\n",
    "\n",
    "\n",
    "##由圖可知 --> 只有1~2個家屬或朋友的生存率較高\n"
   ]
  },
  {
   "cell_type": "code",
   "execution_count": 13,
   "id": "530b7a90",
   "metadata": {},
   "outputs": [
    {
     "data": {
      "image/png": "[encoded data removed]",
      "text/plain": [
       "<Figure size 1008x504 with 2 Axes>"
      ]
     },
     "metadata": {
      "needs_background": "light"
     },
     "output_type": "display_data"
    }
   ],
   "source": [
    "ageplot = sns.FacetGrid(train_data, col = 'Survived', height = 7)\n",
    "##distplot --> 很好用\n",
    "ageplot = ageplot.map(sns.distplot,'Age')\n",
    "ageplot = ageplot.set_ylabels('Survived Probability')"
   ]
  },
  {
   "cell_type": "code",
   "execution_count": 14,
   "id": "13686067",
   "metadata": {},
   "outputs": [
    {
     "data": {
      "image/png": "[encoded data removed]",
      "text/plain": [
       "<Figure size 432x288 with 1 Axes>"
      ]
     },
     "metadata": {
      "needs_background": "light"
     },
     "output_type": "display_data"
    }
   ],
   "source": [
    "#性別生存率\n",
    "\n",
    "sexplot = sns.barplot(x = 'Sex',y = 'Survived',data=train_data)\n",
    "\n",
    "#由圖可知 --> 女性生存率遠大於男性\n",
    "## 因此性別對預測很重要"
   ]
  },
  {
   "cell_type": "code",
   "execution_count": 15,
   "id": "79224070",
   "metadata": {},
   "outputs": [
    {
     "data": {
      "image/png": "[encoded data removed]",
      "text/plain": [
       "<Figure size 504x504 with 1 Axes>"
      ]
     },
     "metadata": {
      "needs_background": "light"
     },
     "output_type": "display_data"
    }
   ],
   "source": [
    "##船艙生存率\n",
    "\n",
    "Pclass_plot = sns.catplot(x='Pclass',y='Survived',data=train_data,kind = 'bar',height=7)\n",
    "\n"
   ]
  },
  {
   "cell_type": "code",
   "execution_count": 16,
   "id": "fb7b43f4",
   "metadata": {},
   "outputs": [
    {
     "data": {
      "image/png": "[encoded data removed]",
      "text/plain": [
       "<Figure size 574.5x504 with 1 Axes>"
      ]
     },
     "metadata": {
      "needs_background": "light"
     },
     "output_type": "display_data"
    }
   ],
   "source": [
    "###船艙男女生存比例\n",
    "\n",
    "Pclass_sex_plot = sns.catplot(x='Pclass',y = 'Survived',hue='Sex',data = train_data,kind='bar',height =7)"
   ]
  },
  {
   "cell_type": "code",
   "execution_count": 17,
   "id": "8c8a837c",
   "metadata": {},
   "outputs": [
    {
     "name": "stdout",
     "output_type": "stream",
     "text": [
      "2\n",
      "S    644\n",
      "C    168\n",
      "Q     77\n",
      "Name: Embarked, dtype: int64\n"
     ]
    }
   ],
   "source": [
    "###Embarked\n",
    "\n",
    "print(train_data['Embarked'].isnull().sum())\n",
    "#Embarked 有缺失值\n",
    "\n",
    "print(train_data['Embarked'].value_counts())\n",
    "#找到Embarked 中最多的資料 --> S\n",
    "\n",
    "train_data['Embarked'] = train_data['Embarked'].fillna('S')\n",
    "###將缺失值改為最多的值"
   ]
  },
  {
   "cell_type": "code",
   "execution_count": 18,
   "id": "3d062a9d",
   "metadata": {},
   "outputs": [
    {
     "data": {
      "text/plain": [
       "<seaborn.axisgrid.FacetGrid at 0x1a57f2a7e20>"
      ]
     },
     "execution_count": 18,
     "metadata": {},
     "output_type": "execute_result"
    },
    {
     "data": {
      "image/png": "[encoded data removed]",
      "text/plain": [
       "<Figure size 504x504 with 1 Axes>"
      ]
     },
     "metadata": {
      "needs_background": "light"
     },
     "output_type": "display_data"
    }
   ],
   "source": [
    "sns.catplot(x='Embarked',y = 'Survived',data = train_data,kind='bar',height = 7)"
   ]
  },
  {
   "cell_type": "code",
   "execution_count": 19,
   "id": "af0ef861",
   "metadata": {},
   "outputs": [
    {
     "data": {
      "text/plain": [
       "<seaborn.axisgrid.FacetGrid at 0x1a57a5db040>"
      ]
     },
     "execution_count": 19,
     "metadata": {},
     "output_type": "execute_result"
    },
    {
     "data": {
      "image/png": "[encoded data removed]",
      "text/plain": [
       "<Figure size 1512x504 with 3 Axes>"
      ]
     },
     "metadata": {
      "needs_background": "light"
     },
     "output_type": "display_data"
    }
   ],
   "source": [
    "sns.catplot(x='Pclass',col='Embarked',data=train_data,kind='count',height = 7)\n",
    "\n",
    "#由圖可知 --> 上圖從 c 登船的乘客存活率最高，原因是下圖的c中，第1艙的人數最多(有錢人最多)"
   ]
  },
  {
   "cell_type": "markdown",
   "id": "266df30e",
   "metadata": {},
   "source": [
    "# 資料處理"
   ]
  },
  {
   "cell_type": "markdown",
   "id": "4edba4d6",
   "metadata": {},
   "source": [
    "處理遺失值"
   ]
  },
  {
   "cell_type": "code",
   "execution_count": 20,
   "id": "0e681e4b",
   "metadata": {},
   "outputs": [
    {
     "data": {
      "text/plain": [
       "PassengerId      0\n",
       "Survived         0\n",
       "Pclass           0\n",
       "Name             0\n",
       "Sex              0\n",
       "Age            177\n",
       "SibSp            0\n",
       "Parch            0\n",
       "Ticket           0\n",
       "Fare             0\n",
       "Cabin          687\n",
       "Embarked         0\n",
       "dtype: int64"
      ]
     },
     "execution_count": 20,
     "metadata": {},
     "output_type": "execute_result"
    }
   ],
   "source": [
    "train_data.isnull().sum()\n",
    "##剩兩個feature 有缺失值\n",
    "\n",
    "##由下面可知 --> Age的資料缺失不算太多\n",
    "###             而 Cabin資料遺漏太多，考慮直接不採用(刪掉)"
   ]
  },
  {
   "cell_type": "code",
   "execution_count": 21,
   "id": "52ca6a8e",
   "metadata": {},
   "outputs": [
    {
     "name": "stdout",
     "output_type": "stream",
     "text": [
      "Age平均值 29.69911764705882\n",
      "Age標準差 14.526497332334042\n"
     ]
    }
   ],
   "source": [
    "Age_mean = train_data['Age'].mean()\n",
    "print('Age平均值',Age_mean)\n",
    "\n",
    "Age_std = train_data['Age'].std()\n",
    "print('Age標準差',Age_std)"
   ]
  },
  {
   "cell_type": "code",
   "execution_count": 22,
   "id": "479378e4",
   "metadata": {},
   "outputs": [],
   "source": [
    "##從平均值減標準差  到 平均值加標準差 的範圍中隨機挑選 177 個值\n",
    "rand_age = np.random.randint(Age_mean - Age_std , Age_mean + Age_std,size = 177)\n",
    "\n",
    "#複製一個['Age'] 的資料來處理遺失值\n",
    "age_slice = train_data['Age'].copy()\n",
    "##填補\n",
    "age_slice[np.isnan(age_slice)] = rand_age\n",
    "##填補完成後套用回去\n",
    "train_data['Age'] = age_slice\n",
    "\n"
   ]
  },
  {
   "cell_type": "code",
   "execution_count": 23,
   "id": "5f59b95f",
   "metadata": {},
   "outputs": [
    {
     "data": {
      "text/plain": [
       "PassengerId      0\n",
       "Survived         0\n",
       "Pclass           0\n",
       "Name             0\n",
       "Sex              0\n",
       "Age              0\n",
       "SibSp            0\n",
       "Parch            0\n",
       "Ticket           0\n",
       "Fare             0\n",
       "Cabin          687\n",
       "Embarked         0\n",
       "dtype: int64"
      ]
     },
     "execution_count": 23,
     "metadata": {},
     "output_type": "execute_result"
    }
   ],
   "source": [
    "##Age 的缺失值已填補完畢\n",
    "train_data.isnull().sum()\n"
   ]
  },
  {
   "cell_type": "markdown",
   "id": "75a64723",
   "metadata": {},
   "source": [
    "# 最終處理資料"
   ]
  },
  {
   "cell_type": "markdown",
   "id": "f175f7ee",
   "metadata": {},
   "source": [
    "# 刪除較用不到的資料列"
   ]
  },
  {
   "cell_type": "code",
   "execution_count": 24,
   "id": "1f636086",
   "metadata": {},
   "outputs": [],
   "source": [
    "##由之前的分析可知 --> ['PassengerId','Ticket','Cabin','Name'] 是與生存率最不相關的特徵(Cabin是由於缺失值太多)\n",
    "## 因此可以刪除他們\n",
    "\n",
    "drop_col = ['PassengerId','Ticket','Cabin','Name']\n",
    "train_data.drop(drop_col,axis = 1 , inplace = True)\n",
    "## axis = 1 --> 刪除columns\n",
    "## inplace = True --> 是否直接取代\n",
    "\n"
   ]
  },
  {
   "cell_type": "code",
   "execution_count": 25,
   "id": "4ba21996",
   "metadata": {},
   "outputs": [
    {
     "data": {
      "text/html": [
       "<div>\n",
       "<style scoped>\n",
       "    .dataframe tbody tr th:only-of-type {\n",
       "        vertical-align: middle;\n",
       "    }\n",
       "\n",
       "    .dataframe tbody tr th {\n",
       "        vertical-align: top;\n",
       "    }\n",
       "\n",
       "    .dataframe thead th {\n",
       "        text-align: right;\n",
       "    }\n",
       "</style>\n",
       "<table border=\"1\" class=\"dataframe\">\n",
       "  <thead>\n",
       "    <tr style=\"text-align: right;\">\n",
       "      <th></th>\n",
       "      <th>Survived</th>\n",
       "      <th>Pclass</th>\n",
       "      <th>Sex</th>\n",
       "      <th>Age</th>\n",
       "      <th>SibSp</th>\n",
       "      <th>Parch</th>\n",
       "      <th>Fare</th>\n",
       "      <th>Embarked</th>\n",
       "    </tr>\n",
       "  </thead>\n",
       "  <tbody>\n",
       "    <tr>\n",
       "      <th>0</th>\n",
       "      <td>0</td>\n",
       "      <td>3</td>\n",
       "      <td>male</td>\n",
       "      <td>22.0</td>\n",
       "      <td>1</td>\n",
       "      <td>0</td>\n",
       "      <td>7.2500</td>\n",
       "      <td>S</td>\n",
       "    </tr>\n",
       "    <tr>\n",
       "      <th>1</th>\n",
       "      <td>1</td>\n",
       "      <td>1</td>\n",
       "      <td>female</td>\n",
       "      <td>38.0</td>\n",
       "      <td>1</td>\n",
       "      <td>0</td>\n",
       "      <td>71.2833</td>\n",
       "      <td>C</td>\n",
       "    </tr>\n",
       "    <tr>\n",
       "      <th>2</th>\n",
       "      <td>1</td>\n",
       "      <td>3</td>\n",
       "      <td>female</td>\n",
       "      <td>26.0</td>\n",
       "      <td>0</td>\n",
       "      <td>0</td>\n",
       "      <td>7.9250</td>\n",
       "      <td>S</td>\n",
       "    </tr>\n",
       "    <tr>\n",
       "      <th>3</th>\n",
       "      <td>1</td>\n",
       "      <td>1</td>\n",
       "      <td>female</td>\n",
       "      <td>35.0</td>\n",
       "      <td>1</td>\n",
       "      <td>0</td>\n",
       "      <td>53.1000</td>\n",
       "      <td>S</td>\n",
       "    </tr>\n",
       "    <tr>\n",
       "      <th>4</th>\n",
       "      <td>0</td>\n",
       "      <td>3</td>\n",
       "      <td>male</td>\n",
       "      <td>35.0</td>\n",
       "      <td>0</td>\n",
       "      <td>0</td>\n",
       "      <td>8.0500</td>\n",
       "      <td>S</td>\n",
       "    </tr>\n",
       "  </tbody>\n",
       "</table>\n",
       "</div>"
      ],
      "text/plain": [
       "   Survived  Pclass     Sex   Age  SibSp  Parch     Fare Embarked\n",
       "0         0       3    male  22.0      1      0   7.2500        S\n",
       "1         1       1  female  38.0      1      0  71.2833        C\n",
       "2         1       3  female  26.0      0      0   7.9250        S\n",
       "3         1       1  female  35.0      1      0  53.1000        S\n",
       "4         0       3    male  35.0      0      0   8.0500        S"
      ]
     },
     "execution_count": 25,
     "metadata": {},
     "output_type": "execute_result"
    }
   ],
   "source": [
    "##刪除完成\n",
    "\n",
    "train_data.head()\n",
    "\n",
    "\n",
    "#觀察 DataFrame 裡，Sex 跟 Embarked 資料中有非數字的資料 \n",
    "## 因此要到下一步"
   ]
  },
  {
   "cell_type": "markdown",
   "id": "1c5a5a35",
   "metadata": {},
   "source": [
    "# Converting Categorical Variables to Numeric\n",
    "# 將非數字資料轉換為數字"
   ]
  },
  {
   "cell_type": "code",
   "execution_count": 27,
   "id": "f73c6523",
   "metadata": {},
   "outputs": [
    {
     "data": {
      "text/html": [
       "<div>\n",
       "<style scoped>\n",
       "    .dataframe tbody tr th:only-of-type {\n",
       "        vertical-align: middle;\n",
       "    }\n",
       "\n",
       "    .dataframe tbody tr th {\n",
       "        vertical-align: top;\n",
       "    }\n",
       "\n",
       "    .dataframe thead th {\n",
       "        text-align: right;\n",
       "    }\n",
       "</style>\n",
       "<table border=\"1\" class=\"dataframe\">\n",
       "  <thead>\n",
       "    <tr style=\"text-align: right;\">\n",
       "      <th></th>\n",
       "      <th>Survived</th>\n",
       "      <th>Pclass</th>\n",
       "      <th>Sex</th>\n",
       "      <th>Age</th>\n",
       "      <th>SibSp</th>\n",
       "      <th>Parch</th>\n",
       "      <th>Fare</th>\n",
       "      <th>Embarked</th>\n",
       "    </tr>\n",
       "  </thead>\n",
       "  <tbody>\n",
       "    <tr>\n",
       "      <th>0</th>\n",
       "      <td>0</td>\n",
       "      <td>3</td>\n",
       "      <td>0</td>\n",
       "      <td>22.0</td>\n",
       "      <td>1</td>\n",
       "      <td>0</td>\n",
       "      <td>7.2500</td>\n",
       "      <td>0</td>\n",
       "    </tr>\n",
       "    <tr>\n",
       "      <th>1</th>\n",
       "      <td>1</td>\n",
       "      <td>1</td>\n",
       "      <td>1</td>\n",
       "      <td>38.0</td>\n",
       "      <td>1</td>\n",
       "      <td>0</td>\n",
       "      <td>71.2833</td>\n",
       "      <td>1</td>\n",
       "    </tr>\n",
       "    <tr>\n",
       "      <th>2</th>\n",
       "      <td>1</td>\n",
       "      <td>3</td>\n",
       "      <td>1</td>\n",
       "      <td>26.0</td>\n",
       "      <td>0</td>\n",
       "      <td>0</td>\n",
       "      <td>7.9250</td>\n",
       "      <td>0</td>\n",
       "    </tr>\n",
       "    <tr>\n",
       "      <th>3</th>\n",
       "      <td>1</td>\n",
       "      <td>1</td>\n",
       "      <td>1</td>\n",
       "      <td>35.0</td>\n",
       "      <td>1</td>\n",
       "      <td>0</td>\n",
       "      <td>53.1000</td>\n",
       "      <td>0</td>\n",
       "    </tr>\n",
       "    <tr>\n",
       "      <th>4</th>\n",
       "      <td>0</td>\n",
       "      <td>3</td>\n",
       "      <td>0</td>\n",
       "      <td>35.0</td>\n",
       "      <td>0</td>\n",
       "      <td>0</td>\n",
       "      <td>8.0500</td>\n",
       "      <td>0</td>\n",
       "    </tr>\n",
       "  </tbody>\n",
       "</table>\n",
       "</div>"
      ],
      "text/plain": [
       "   Survived  Pclass  Sex   Age  SibSp  Parch     Fare  Embarked\n",
       "0         0       3    0  22.0      1      0   7.2500         0\n",
       "1         1       1    1  38.0      1      0  71.2833         1\n",
       "2         1       3    1  26.0      0      0   7.9250         0\n",
       "3         1       1    1  35.0      1      0  53.1000         0\n",
       "4         0       3    0  35.0      0      0   8.0500         0"
      ]
     },
     "execution_count": 27,
     "metadata": {},
     "output_type": "execute_result"
    }
   ],
   "source": [
    "### 機器學習無法用 **英文單字** 進行學習\n",
    "### 因此須將單字轉為簡單的數字\n",
    "\n",
    "genders = {'male':0,'female':1}\n",
    "train_data['Sex'] = train_data['Sex'].map(genders)  ##將Sex中資料調整為 gender\n",
    "\n",
    "\n",
    "ports = {'S':0,'C':1,'Q':2}\n",
    "train_data['Embarked'] = train_data['Embarked'].map(ports) ##將Embarked中資料調整為 ports\n",
    "\n",
    "train_data.head()\n",
    "\n",
    "##處理完成"
   ]
  },
  {
   "cell_type": "markdown",
   "id": "44f45a1c",
   "metadata": {},
   "source": [
    "# ML模組"
   ]
  },
  {
   "cell_type": "code",
   "execution_count": 45,
   "id": "1643a299",
   "metadata": {},
   "outputs": [],
   "source": [
    "## 選擇好 x(特徵) 跟 y(答案)\n",
    "\n",
    "df_train_x = train_data[['Pclass','Sex','Age','SibSp','Parch','Fare','Embarked']]\n",
    "\n",
    "df_train_y = train_data[['Survived']]\n",
    "\n",
    "\n",
    "#---------------------------------------\n",
    "######將 train 資料分割成 train 跟 test ######\n",
    "\n",
    "### train_test_split(train_data ,  train_target , test_size , random_state)\n",
    "### train_data --> 要劃分的樣本特徵集\n",
    "### train_target --> 要劃分的樣本結果\n",
    "### test_size --> 測試資料占比 \n",
    "### random_state --> 整數 : 每次結果都不一樣 ； 0 或 不填 : 每次結果都不一樣\n",
    "x_train, x_test ,y_train ,y_test = train_test_split(df_train_x, df_train_y, test_size = 0.2 , random_state = 42)"
   ]
  },
  {
   "cell_type": "markdown",
   "id": "9c8ceeff",
   "metadata": {},
   "source": [
    "# (A) 隨機森林分類 Random Forest Classifier"
   ]
  },
  {
   "cell_type": "code",
   "execution_count": 46,
   "id": "7b107b67",
   "metadata": {},
   "outputs": [
    {
     "name": "stdout",
     "output_type": "stream",
     "text": [
      "隨機森林\n",
      "正確率(accuracy): 84.91620111731844\n"
     ]
    }
   ],
   "source": [
    "clf1 = RandomForestClassifier()  #建造隨機森林模組\n",
    "\n",
    "clf1.fit(x_train,y_train)  ## 開始用train資料訓練模組\n",
    "\n",
    "rfc_y_pred = clf1.predict(x_test)  #用test 資料預測結果\n",
    "\n",
    "rfc_accuracy = accuracy_score(y_test, rfc_y_pred) * 100  ##用 test_y(解答) 比對 rfc_y_pred(預測結果)\n",
    "                                                         ##比對後，算出正確率\n",
    "print('隨機森林')\n",
    "print('正確率(accuracy):',rfc_accuracy)\n",
    "\n"
   ]
  },
  {
   "cell_type": "markdown",
   "id": "b0a262f3",
   "metadata": {},
   "source": [
    "# (B)邏輯回歸 Logistic Regression\n",
    "# 切記 --> 它是一種分類方法，不是回歸"
   ]
  },
  {
   "cell_type": "code",
   "execution_count": 47,
   "id": "be716fd8",
   "metadata": {},
   "outputs": [
    {
     "name": "stdout",
     "output_type": "stream",
     "text": [
      "邏輯回歸\n",
      "正確率(accuracy): 81.00558659217877\n"
     ]
    }
   ],
   "source": [
    "clf2 = LogisticRegression()   #建構邏輯回歸模組\n",
    "clf2.fit(x_train, y_train)   #訓練模組 \n",
    "\n",
    "LR_y_pred = clf2.predict(x_test)  #預測結果\n",
    "LR_accuracy = accuracy_score(y_test, LR_y_pred) *100  #計算正確率\n",
    "\n",
    "print('邏輯回歸')\n",
    "print('正確率(accuracy):', LR_accuracy)"
   ]
  },
  {
   "cell_type": "markdown",
   "id": "ddec0a25",
   "metadata": {},
   "source": [
    "# (C) K近鄰演算法  K-Neighbors Classifier"
   ]
  },
  {
   "cell_type": "code",
   "execution_count": 50,
   "id": "5e503983",
   "metadata": {},
   "outputs": [
    {
     "name": "stdout",
     "output_type": "stream",
     "text": [
      "K近鄰演算法\n",
      "正確率(accuracy): 74.86033519553072\n"
     ]
    }
   ],
   "source": [
    "#KNeighborsClassifies(n_neighbors=5, algorithm='auto')  \n",
    "# n_neighboes --> 查找的鄰居數，預設為5\n",
    "# algorithm --> 選擇要使用的演算法，auto會找最適合你的資料\n",
    "#更多資料:\n",
    "#http://www.taroballz.com/2018/07/08/ML_KNeighbors_Classifier/\n",
    "\n",
    "clf3 = KNeighborsClassifier(5)  \n",
    "clf3.fit(x_train,y_train)\n",
    "\n",
    "knc_y_pred = clf3.predict(x_test)\n",
    "knc_accuracy = accuracy_score(y_test, knc_y_pred) * 100\n",
    "\n",
    "print('K近鄰演算法')\n",
    "print('正確率(accuracy):',knc_accuracy)"
   ]
  },
  {
   "cell_type": "markdown",
   "id": "725f9e9e",
   "metadata": {},
   "source": [
    "# (D)決策樹分類器 Decision Tree Classsifier"
   ]
  },
  {
   "cell_type": "code",
   "execution_count": 52,
   "id": "17b0905d",
   "metadata": {},
   "outputs": [
    {
     "name": "stdout",
     "output_type": "stream",
     "text": [
      "決策樹分類器\n",
      "正確率(accuracy): 78.2122905027933\n"
     ]
    }
   ],
   "source": [
    "clf4 = tree.DecisionTreeClassifier()\n",
    "clf4 = clf4.fit(x_train,y_train)\n",
    "\n",
    "dtc_y_pred = clf4.predict(x_test)\n",
    "dtc_accuracy = accuracy_score(y_test, dtc_y_pred) *100\n",
    "\n",
    "print('K近鄰演算法')\n",
    "print('正確率(accuracy):',knc_accuracy)"
   ]
  },
  {
   "cell_type": "markdown",
   "id": "b017b6f3",
   "metadata": {},
   "source": [
    "# (E)支援向量機 Support Vector Machine\n",
    "# 可用於處裡非線性分類\n"
   ]
  },
  {
   "cell_type": "code",
   "execution_count": 54,
   "id": "7cb77e3c",
   "metadata": {},
   "outputs": [
    {
     "name": "stdout",
     "output_type": "stream",
     "text": [
      "支持向量機\n",
      "正確率(accuracy): 71.50837988826815\n"
     ]
    }
   ],
   "source": [
    "##參考資料 --> https://medium.com/jameslearningnote/%E8%B3%87%E6%96%99%E5%88%86%E6%9E%90-%E6%A9%9F%E5%99%A8%E5%AD%B8%E7%BF%92-%E7%AC%AC3-4%E8%AC%9B-%E6%94%AF%E6%8F%B4%E5%90%91%E9%87%8F%E6%A9%9F-support-vector-machine-%E4%BB%8B%E7%B4%B9-9c6c6925856b\n",
    "clf5 = svm.SVC()\n",
    "clf5.fit(x_train,y_train)\n",
    "\n",
    "svm_y_pred = clf5.predict(x_test)\n",
    "svm_accuracy = accuracy_score(y_test,svm_y_pred) *100\n",
    "\n",
    "print('支持向量機')\n",
    "print('正確率(accuracy):',svm_accuracy)\n"
   ]
  },
  {
   "cell_type": "markdown",
   "id": "8d5e28d7",
   "metadata": {},
   "source": [
    "# 五種方法正確率\n"
   ]
  },
  {
   "cell_type": "code",
   "execution_count": 61,
   "id": "c9ae8191",
   "metadata": {},
   "outputs": [
    {
     "name": "stdout",
     "output_type": "stream",
     "text": [
      "隨機森林\n",
      "正確率(accuracy): 84.91620111731844\n",
      "\n",
      "邏輯回歸\n",
      "正確率(accuracy): 81.00558659217877\n",
      "\n",
      "K近鄰演算法\n",
      "正確率(accuracy): 74.86033519553072\n",
      "\n",
      "K近鄰演算法\n",
      "正確率(accuracy): 74.86033519553072\n",
      "\n",
      "支持向量機\n",
      "正確率(accuracy): 71.50837988826815\n",
      "\n",
      "----------------------------------------------------------------------\n",
      "正確率最高的為隨機森林\n",
      "接下來就用它來預測答案\n"
     ]
    }
   ],
   "source": [
    "print('隨機森林')\n",
    "print('正確率(accuracy):',rfc_accuracy)\n",
    "print()\n",
    "print('邏輯回歸')\n",
    "print('正確率(accuracy):', LR_accuracy)\n",
    "print()\n",
    "print('K近鄰演算法')\n",
    "print('正確率(accuracy):',knc_accuracy)\n",
    "print()\n",
    "print('K近鄰演算法')\n",
    "print('正確率(accuracy):',knc_accuracy)\n",
    "print()\n",
    "print('支持向量機')\n",
    "print('正確率(accuracy):',svm_accuracy)\n",
    "print()\n",
    "print('-'*70)\n",
    "\n",
    "print('正確率最高的為隨機森林')\n",
    "print('接下來就用它來預測答案')"
   ]
  },
  {
   "cell_type": "markdown",
   "id": "8d5ba3d9",
   "metadata": {},
   "source": [
    "# 準備預測Test.csv\n",
    "# 分析資料"
   ]
  },
  {
   "cell_type": "code",
   "execution_count": 62,
   "id": "4759a2f9",
   "metadata": {},
   "outputs": [
    {
     "data": {
      "text/html": [
       "<div>\n",
       "<style scoped>\n",
       "    .dataframe tbody tr th:only-of-type {\n",
       "        vertical-align: middle;\n",
       "    }\n",
       "\n",
       "    .dataframe tbody tr th {\n",
       "        vertical-align: top;\n",
       "    }\n",
       "\n",
       "    .dataframe thead th {\n",
       "        text-align: right;\n",
       "    }\n",
       "</style>\n",
       "<table border=\"1\" class=\"dataframe\">\n",
       "  <thead>\n",
       "    <tr style=\"text-align: right;\">\n",
       "      <th></th>\n",
       "      <th>PassengerId</th>\n",
       "      <th>Pclass</th>\n",
       "      <th>Name</th>\n",
       "      <th>Sex</th>\n",
       "      <th>Age</th>\n",
       "      <th>SibSp</th>\n",
       "      <th>Parch</th>\n",
       "      <th>Ticket</th>\n",
       "      <th>Fare</th>\n",
       "      <th>Cabin</th>\n",
       "      <th>Embarked</th>\n",
       "    </tr>\n",
       "  </thead>\n",
       "  <tbody>\n",
       "    <tr>\n",
       "      <th>0</th>\n",
       "      <td>892</td>\n",
       "      <td>3</td>\n",
       "      <td>Kelly, Mr. James</td>\n",
       "      <td>male</td>\n",
       "      <td>34.5</td>\n",
       "      <td>0</td>\n",
       "      <td>0</td>\n",
       "      <td>330911</td>\n",
       "      <td>7.8292</td>\n",
       "      <td>NaN</td>\n",
       "      <td>Q</td>\n",
       "    </tr>\n",
       "    <tr>\n",
       "      <th>1</th>\n",
       "      <td>893</td>\n",
       "      <td>3</td>\n",
       "      <td>Wilkes, Mrs. James (Ellen Needs)</td>\n",
       "      <td>female</td>\n",
       "      <td>47.0</td>\n",
       "      <td>1</td>\n",
       "      <td>0</td>\n",
       "      <td>363272</td>\n",
       "      <td>7.0000</td>\n",
       "      <td>NaN</td>\n",
       "      <td>S</td>\n",
       "    </tr>\n",
       "    <tr>\n",
       "      <th>2</th>\n",
       "      <td>894</td>\n",
       "      <td>2</td>\n",
       "      <td>Myles, Mr. Thomas Francis</td>\n",
       "      <td>male</td>\n",
       "      <td>62.0</td>\n",
       "      <td>0</td>\n",
       "      <td>0</td>\n",
       "      <td>240276</td>\n",
       "      <td>9.6875</td>\n",
       "      <td>NaN</td>\n",
       "      <td>Q</td>\n",
       "    </tr>\n",
       "    <tr>\n",
       "      <th>3</th>\n",
       "      <td>895</td>\n",
       "      <td>3</td>\n",
       "      <td>Wirz, Mr. Albert</td>\n",
       "      <td>male</td>\n",
       "      <td>27.0</td>\n",
       "      <td>0</td>\n",
       "      <td>0</td>\n",
       "      <td>315154</td>\n",
       "      <td>8.6625</td>\n",
       "      <td>NaN</td>\n",
       "      <td>S</td>\n",
       "    </tr>\n",
       "    <tr>\n",
       "      <th>4</th>\n",
       "      <td>896</td>\n",
       "      <td>3</td>\n",
       "      <td>Hirvonen, Mrs. Alexander (Helga E Lindqvist)</td>\n",
       "      <td>female</td>\n",
       "      <td>22.0</td>\n",
       "      <td>1</td>\n",
       "      <td>1</td>\n",
       "      <td>3101298</td>\n",
       "      <td>12.2875</td>\n",
       "      <td>NaN</td>\n",
       "      <td>S</td>\n",
       "    </tr>\n",
       "    <tr>\n",
       "      <th>5</th>\n",
       "      <td>897</td>\n",
       "      <td>3</td>\n",
       "      <td>Svensson, Mr. Johan Cervin</td>\n",
       "      <td>male</td>\n",
       "      <td>14.0</td>\n",
       "      <td>0</td>\n",
       "      <td>0</td>\n",
       "      <td>7538</td>\n",
       "      <td>9.2250</td>\n",
       "      <td>NaN</td>\n",
       "      <td>S</td>\n",
       "    </tr>\n",
       "    <tr>\n",
       "      <th>6</th>\n",
       "      <td>898</td>\n",
       "      <td>3</td>\n",
       "      <td>Connolly, Miss. Kate</td>\n",
       "      <td>female</td>\n",
       "      <td>30.0</td>\n",
       "      <td>0</td>\n",
       "      <td>0</td>\n",
       "      <td>330972</td>\n",
       "      <td>7.6292</td>\n",
       "      <td>NaN</td>\n",
       "      <td>Q</td>\n",
       "    </tr>\n",
       "    <tr>\n",
       "      <th>7</th>\n",
       "      <td>899</td>\n",
       "      <td>2</td>\n",
       "      <td>Caldwell, Mr. Albert Francis</td>\n",
       "      <td>male</td>\n",
       "      <td>26.0</td>\n",
       "      <td>1</td>\n",
       "      <td>1</td>\n",
       "      <td>248738</td>\n",
       "      <td>29.0000</td>\n",
       "      <td>NaN</td>\n",
       "      <td>S</td>\n",
       "    </tr>\n",
       "    <tr>\n",
       "      <th>8</th>\n",
       "      <td>900</td>\n",
       "      <td>3</td>\n",
       "      <td>Abrahim, Mrs. Joseph (Sophie Halaut Easu)</td>\n",
       "      <td>female</td>\n",
       "      <td>18.0</td>\n",
       "      <td>0</td>\n",
       "      <td>0</td>\n",
       "      <td>2657</td>\n",
       "      <td>7.2292</td>\n",
       "      <td>NaN</td>\n",
       "      <td>C</td>\n",
       "    </tr>\n",
       "    <tr>\n",
       "      <th>9</th>\n",
       "      <td>901</td>\n",
       "      <td>3</td>\n",
       "      <td>Davies, Mr. John Samuel</td>\n",
       "      <td>male</td>\n",
       "      <td>21.0</td>\n",
       "      <td>2</td>\n",
       "      <td>0</td>\n",
       "      <td>A/4 48871</td>\n",
       "      <td>24.1500</td>\n",
       "      <td>NaN</td>\n",
       "      <td>S</td>\n",
       "    </tr>\n",
       "  </tbody>\n",
       "</table>\n",
       "</div>"
      ],
      "text/plain": [
       "   PassengerId  Pclass                                          Name     Sex  \\\n",
       "0          892       3                              Kelly, Mr. James    male   \n",
       "1          893       3              Wilkes, Mrs. James (Ellen Needs)  female   \n",
       "2          894       2                     Myles, Mr. Thomas Francis    male   \n",
       "3          895       3                              Wirz, Mr. Albert    male   \n",
       "4          896       3  Hirvonen, Mrs. Alexander (Helga E Lindqvist)  female   \n",
       "5          897       3                    Svensson, Mr. Johan Cervin    male   \n",
       "6          898       3                          Connolly, Miss. Kate  female   \n",
       "7          899       2                  Caldwell, Mr. Albert Francis    male   \n",
       "8          900       3     Abrahim, Mrs. Joseph (Sophie Halaut Easu)  female   \n",
       "9          901       3                       Davies, Mr. John Samuel    male   \n",
       "\n",
       "    Age  SibSp  Parch     Ticket     Fare Cabin Embarked  \n",
       "0  34.5      0      0     330911   7.8292   NaN        Q  \n",
       "1  47.0      1      0     363272   7.0000   NaN        S  \n",
       "2  62.0      0      0     240276   9.6875   NaN        Q  \n",
       "3  27.0      0      0     315154   8.6625   NaN        S  \n",
       "4  22.0      1      1    3101298  12.2875   NaN        S  \n",
       "5  14.0      0      0       7538   9.2250   NaN        S  \n",
       "6  30.0      0      0     330972   7.6292   NaN        Q  \n",
       "7  26.0      1      1     248738  29.0000   NaN        S  \n",
       "8  18.0      0      0       2657   7.2292   NaN        C  \n",
       "9  21.0      2      0  A/4 48871  24.1500   NaN        S  "
      ]
     },
     "execution_count": 62,
     "metadata": {},
     "output_type": "execute_result"
    }
   ],
   "source": [
    "test_data = pd.read_csv('test.csv')\n",
    "test_data.head(10)"
   ]
  },
  {
   "cell_type": "code",
   "execution_count": 68,
   "id": "f161566d",
   "metadata": {},
   "outputs": [
    {
     "name": "stdout",
     "output_type": "stream",
     "text": [
      "<class 'pandas.core.frame.DataFrame'>\n",
      "RangeIndex: 418 entries, 0 to 417\n",
      "Data columns (total 11 columns):\n",
      " #   Column       Non-Null Count  Dtype  \n",
      "---  ------       --------------  -----  \n",
      " 0   PassengerId  418 non-null    int64  \n",
      " 1   Pclass       418 non-null    int64  \n",
      " 2   Name         418 non-null    object \n",
      " 3   Sex          418 non-null    object \n",
      " 4   Age          332 non-null    float64\n",
      " 5   SibSp        418 non-null    int64  \n",
      " 6   Parch        418 non-null    int64  \n",
      " 7   Ticket       418 non-null    object \n",
      " 8   Fare         417 non-null    float64\n",
      " 9   Cabin        91 non-null     object \n",
      " 10  Embarked     418 non-null    object \n",
      "dtypes: float64(2), int64(4), object(5)\n",
      "memory usage: 36.0+ KB\n",
      "None\n",
      "\n",
      "PassengerId      0\n",
      "Pclass           0\n",
      "Name             0\n",
      "Sex              0\n",
      "Age             86\n",
      "SibSp            0\n",
      "Parch            0\n",
      "Ticket           0\n",
      "Fare             1\n",
      "Cabin          327\n",
      "Embarked         0\n",
      "dtype: int64\n"
     ]
    }
   ],
   "source": [
    "print(test_data.info())\n",
    "print()\n",
    "print(test_data.isnull().sum())\n",
    "\n"
   ]
  },
  {
   "cell_type": "markdown",
   "id": "184da960",
   "metadata": {},
   "source": [
    "# 整理資料"
   ]
  },
  {
   "cell_type": "code",
   "execution_count": 70,
   "id": "028b8895",
   "metadata": {},
   "outputs": [
    {
     "data": {
      "text/plain": [
       "PassengerId      0\n",
       "Pclass           0\n",
       "Name             0\n",
       "Sex              0\n",
       "Age              0\n",
       "SibSp            0\n",
       "Parch            0\n",
       "Ticket           0\n",
       "Fare             0\n",
       "Cabin          327\n",
       "Embarked         0\n",
       "dtype: int64"
      ]
     },
     "execution_count": 70,
     "metadata": {},
     "output_type": "execute_result"
    }
   ],
   "source": [
    "## 從上格可以得知 --> Age、Fare 的缺值還可以填補\n",
    "## cabin 則是用不到了\n",
    "\n",
    "##填補資料方式和之前一樣\n",
    "\n",
    "mean = test_data['Age'].mean()\n",
    "std = test_data['Age'].std()\n",
    "\n",
    "rand_age = np.random.randint(mean - std, mean + std,size = 86)\n",
    "age_copy = test_data['Age'].copy()\n",
    "\n",
    "age_copy[np.isnan(age_copy)] = rand_age\n",
    "\n",
    "test_data['Age'] = age_copy\n",
    "\n",
    "test_data['Fare'].fillna(test_data['Fare'].mean(), inplace = True)\n",
    "\n",
    "test_data.isnull().sum()"
   ]
  },
  {
   "cell_type": "markdown",
   "id": "36cd6904",
   "metadata": {},
   "source": [
    "# 刪除Train_data沒有的特徵"
   ]
  },
  {
   "cell_type": "code",
   "execution_count": 71,
   "id": "006cf5d2",
   "metadata": {},
   "outputs": [
    {
     "data": {
      "text/html": [
       "<div>\n",
       "<style scoped>\n",
       "    .dataframe tbody tr th:only-of-type {\n",
       "        vertical-align: middle;\n",
       "    }\n",
       "\n",
       "    .dataframe tbody tr th {\n",
       "        vertical-align: top;\n",
       "    }\n",
       "\n",
       "    .dataframe thead th {\n",
       "        text-align: right;\n",
       "    }\n",
       "</style>\n",
       "<table border=\"1\" class=\"dataframe\">\n",
       "  <thead>\n",
       "    <tr style=\"text-align: right;\">\n",
       "      <th></th>\n",
       "      <th>Pclass</th>\n",
       "      <th>Sex</th>\n",
       "      <th>Age</th>\n",
       "      <th>SibSp</th>\n",
       "      <th>Parch</th>\n",
       "      <th>Fare</th>\n",
       "      <th>Embarked</th>\n",
       "    </tr>\n",
       "  </thead>\n",
       "  <tbody>\n",
       "    <tr>\n",
       "      <th>0</th>\n",
       "      <td>3</td>\n",
       "      <td>male</td>\n",
       "      <td>34.5</td>\n",
       "      <td>0</td>\n",
       "      <td>0</td>\n",
       "      <td>7.8292</td>\n",
       "      <td>Q</td>\n",
       "    </tr>\n",
       "    <tr>\n",
       "      <th>1</th>\n",
       "      <td>3</td>\n",
       "      <td>female</td>\n",
       "      <td>47.0</td>\n",
       "      <td>1</td>\n",
       "      <td>0</td>\n",
       "      <td>7.0000</td>\n",
       "      <td>S</td>\n",
       "    </tr>\n",
       "    <tr>\n",
       "      <th>2</th>\n",
       "      <td>2</td>\n",
       "      <td>male</td>\n",
       "      <td>62.0</td>\n",
       "      <td>0</td>\n",
       "      <td>0</td>\n",
       "      <td>9.6875</td>\n",
       "      <td>Q</td>\n",
       "    </tr>\n",
       "    <tr>\n",
       "      <th>3</th>\n",
       "      <td>3</td>\n",
       "      <td>male</td>\n",
       "      <td>27.0</td>\n",
       "      <td>0</td>\n",
       "      <td>0</td>\n",
       "      <td>8.6625</td>\n",
       "      <td>S</td>\n",
       "    </tr>\n",
       "    <tr>\n",
       "      <th>4</th>\n",
       "      <td>3</td>\n",
       "      <td>female</td>\n",
       "      <td>22.0</td>\n",
       "      <td>1</td>\n",
       "      <td>1</td>\n",
       "      <td>12.2875</td>\n",
       "      <td>S</td>\n",
       "    </tr>\n",
       "  </tbody>\n",
       "</table>\n",
       "</div>"
      ],
      "text/plain": [
       "   Pclass     Sex   Age  SibSp  Parch     Fare Embarked\n",
       "0       3    male  34.5      0      0   7.8292        Q\n",
       "1       3  female  47.0      1      0   7.0000        S\n",
       "2       2    male  62.0      0      0   9.6875        Q\n",
       "3       3    male  27.0      0      0   8.6625        S\n",
       "4       3  female  22.0      1      1  12.2875        S"
      ]
     },
     "execution_count": 71,
     "metadata": {},
     "output_type": "execute_result"
    }
   ],
   "source": [
    "drop_col = ['PassengerId','Ticket','Cabin','Name']\n",
    "\n",
    "test_data.drop(drop_col , axis = 1, inplace =True)\n",
    "test_data.head()"
   ]
  },
  {
   "cell_type": "markdown",
   "id": "ae6b7629",
   "metadata": {},
   "source": [
    "# 將非數字資料轉為數字"
   ]
  },
  {
   "cell_type": "code",
   "execution_count": 72,
   "id": "a2a52040",
   "metadata": {},
   "outputs": [
    {
     "data": {
      "text/html": [
       "<div>\n",
       "<style scoped>\n",
       "    .dataframe tbody tr th:only-of-type {\n",
       "        vertical-align: middle;\n",
       "    }\n",
       "\n",
       "    .dataframe tbody tr th {\n",
       "        vertical-align: top;\n",
       "    }\n",
       "\n",
       "    .dataframe thead th {\n",
       "        text-align: right;\n",
       "    }\n",
       "</style>\n",
       "<table border=\"1\" class=\"dataframe\">\n",
       "  <thead>\n",
       "    <tr style=\"text-align: right;\">\n",
       "      <th></th>\n",
       "      <th>Pclass</th>\n",
       "      <th>Sex</th>\n",
       "      <th>Age</th>\n",
       "      <th>SibSp</th>\n",
       "      <th>Parch</th>\n",
       "      <th>Fare</th>\n",
       "      <th>Embarked</th>\n",
       "    </tr>\n",
       "  </thead>\n",
       "  <tbody>\n",
       "    <tr>\n",
       "      <th>0</th>\n",
       "      <td>3</td>\n",
       "      <td>0</td>\n",
       "      <td>34.5</td>\n",
       "      <td>0</td>\n",
       "      <td>0</td>\n",
       "      <td>7.8292</td>\n",
       "      <td>2</td>\n",
       "    </tr>\n",
       "    <tr>\n",
       "      <th>1</th>\n",
       "      <td>3</td>\n",
       "      <td>1</td>\n",
       "      <td>47.0</td>\n",
       "      <td>1</td>\n",
       "      <td>0</td>\n",
       "      <td>7.0000</td>\n",
       "      <td>0</td>\n",
       "    </tr>\n",
       "    <tr>\n",
       "      <th>2</th>\n",
       "      <td>2</td>\n",
       "      <td>0</td>\n",
       "      <td>62.0</td>\n",
       "      <td>0</td>\n",
       "      <td>0</td>\n",
       "      <td>9.6875</td>\n",
       "      <td>2</td>\n",
       "    </tr>\n",
       "    <tr>\n",
       "      <th>3</th>\n",
       "      <td>3</td>\n",
       "      <td>0</td>\n",
       "      <td>27.0</td>\n",
       "      <td>0</td>\n",
       "      <td>0</td>\n",
       "      <td>8.6625</td>\n",
       "      <td>0</td>\n",
       "    </tr>\n",
       "    <tr>\n",
       "      <th>4</th>\n",
       "      <td>3</td>\n",
       "      <td>1</td>\n",
       "      <td>22.0</td>\n",
       "      <td>1</td>\n",
       "      <td>1</td>\n",
       "      <td>12.2875</td>\n",
       "      <td>0</td>\n",
       "    </tr>\n",
       "  </tbody>\n",
       "</table>\n",
       "</div>"
      ],
      "text/plain": [
       "   Pclass  Sex   Age  SibSp  Parch     Fare  Embarked\n",
       "0       3    0  34.5      0      0   7.8292         2\n",
       "1       3    1  47.0      1      0   7.0000         0\n",
       "2       2    0  62.0      0      0   9.6875         2\n",
       "3       3    0  27.0      0      0   8.6625         0\n",
       "4       3    1  22.0      1      1  12.2875         0"
      ]
     },
     "execution_count": 72,
     "metadata": {},
     "output_type": "execute_result"
    }
   ],
   "source": [
    "genders = {'male':0,'female':1}\n",
    "test_data['Sex'] = test_data['Sex'].map(genders)  ##將Sex中資料調整為 genders\n",
    "\n",
    "\n",
    "ports = {'S':0,'C':1,'Q':2}\n",
    "test_data['Embarked'] = test_data['Embarked'].map(ports) ##將Embarked中資料調整為 ports\n",
    "\n",
    "test_data.head()\n",
    "\n"
   ]
  },
  {
   "cell_type": "markdown",
   "id": "18903e6d",
   "metadata": {},
   "source": [
    "# 準備預測!!!"
   ]
  },
  {
   "cell_type": "code",
   "execution_count": 73,
   "id": "5b6993e1",
   "metadata": {},
   "outputs": [
    {
     "data": {
      "text/html": [
       "<div>\n",
       "<style scoped>\n",
       "    .dataframe tbody tr th:only-of-type {\n",
       "        vertical-align: middle;\n",
       "    }\n",
       "\n",
       "    .dataframe tbody tr th {\n",
       "        vertical-align: top;\n",
       "    }\n",
       "\n",
       "    .dataframe thead th {\n",
       "        text-align: right;\n",
       "    }\n",
       "</style>\n",
       "<table border=\"1\" class=\"dataframe\">\n",
       "  <thead>\n",
       "    <tr style=\"text-align: right;\">\n",
       "      <th></th>\n",
       "      <th>PassengerId</th>\n",
       "      <th>Survived</th>\n",
       "    </tr>\n",
       "  </thead>\n",
       "  <tbody>\n",
       "    <tr>\n",
       "      <th>0</th>\n",
       "      <td>892</td>\n",
       "      <td>0</td>\n",
       "    </tr>\n",
       "    <tr>\n",
       "      <th>1</th>\n",
       "      <td>893</td>\n",
       "      <td>0</td>\n",
       "    </tr>\n",
       "    <tr>\n",
       "      <th>2</th>\n",
       "      <td>894</td>\n",
       "      <td>0</td>\n",
       "    </tr>\n",
       "    <tr>\n",
       "      <th>3</th>\n",
       "      <td>895</td>\n",
       "      <td>1</td>\n",
       "    </tr>\n",
       "    <tr>\n",
       "      <th>4</th>\n",
       "      <td>896</td>\n",
       "      <td>0</td>\n",
       "    </tr>\n",
       "  </tbody>\n",
       "</table>\n",
       "</div>"
      ],
      "text/plain": [
       "   PassengerId  Survived\n",
       "0          892         0\n",
       "1          893         0\n",
       "2          894         0\n",
       "3          895         1\n",
       "4          896         0"
      ]
     },
     "execution_count": 73,
     "metadata": {},
     "output_type": "execute_result"
    }
   ],
   "source": [
    "x_test = test_data\n",
    "y_pred = clf1.predict(x_test)\n",
    "\n",
    "original_test_data = pd.read_csv('test.csv')\n",
    "\n",
    "submission = pd.DataFrame({\n",
    "    'PassengerId': original_test_data['PassengerId'],\n",
    "    'Survived': y_pred })\n",
    "\n",
    "submission.head()"
   ]
  },
  {
   "cell_type": "code",
   "execution_count": 76,
   "id": "3e765667",
   "metadata": {},
   "outputs": [],
   "source": [
    "submission.to_csv('ans.csv',index=0)"
   ]
  },
  {
   "cell_type": "code",
   "execution_count": null,
   "id": "beb922ba",
   "metadata": {},
   "outputs": [],
   "source": []
  }
 ],
 "metadata": {
  "kernelspec": {
   "display_name": "Python 3 (ipykernel)",
   "language": "python",
   "name": "python3"
  },
  "language_info": {
   "codemirror_mode": {
    "name": "ipython",
    "version": 3
   },
   "file_extension": ".py",
   "mimetype": "text/x-python",
   "name": "python",
   "nbconvert_exporter": "python",
   "pygments_lexer": "ipython3",
   "version": "3.9.0"
  }
 },
 "nbformat": 4,
 "nbformat_minor": 5
}
